{
 "cells": [
  {
   "cell_type": "code",
   "execution_count": 1,
   "id": "d3b1de1a-2a06-420c-bbce-8402e85a7213",
   "metadata": {},
   "outputs": [],
   "source": [
    "#DecisionTree 파이썬 코드 실습\n",
    "\n",
    "#모델의 성능을 평가하기 위한 패키지\n",
    "#classification_report: 주요 분류 측정 항목을 보여주는 보고서 모듈\n",
    "#confusion_matrix: 분류의 정확성을 평가하기 위한 오차행렬 계산 모듈\n",
    "from sklearn.metrics import classification_report, confusion_matrix\n",
    "\n",
    "#데이터셋을 train과 test로 분리할 서브패키지\n",
    "from sklearn.model_selection import train_test_split\n",
    "\n",
    "#의사결정 트리 알고리즘 서브 패키지\n",
    "from sklearn.tree import DecisionTreeClassifier\n",
    "from sklearn import tree\n",
    "\n",
    "#IPython 내의 정보를 보여주는 도구용 공용 API\n",
    "#Image: raw 데이터가 있는 png, jpeg 이미지 객체를 만드는 모듈\n",
    "from IPython.display import Image\n",
    "\n",
    "import pandas as pd\n",
    "import numpy as np\n",
    "\n",
    "#그래프를 생성하는 graphviz의 Dot 언어를 파이썬 인터페이스에 제공하는 모듈\n",
    "import pydotplus\n",
    "\n",
    "#os와 상호작용하기 위한 기본 기능이 제공되는 모듈\n",
    "import os"
   ]
  },
  {
   "cell_type": "code",
   "execution_count": 2,
   "id": "7240bf4a-2838-47e2-a03c-be741758302a",
   "metadata": {},
   "outputs": [],
   "source": [
    "#PATH 환경변수에 C:/machine_learning_project01/Graphviz/bin 추가\n",
    "os.environ[\"PATH\"] = os.environ[\"PATH\"] + \";C:/machine_learning_project01/Graphviz/bin;\""
   ]
  },
  {
   "cell_type": "code",
   "execution_count": 3,
   "id": "3b51351b-ee79-4613-9644-25abdd6b0389",
   "metadata": {},
   "outputs": [],
   "source": [
    "#playtennis.cvs 파일을 읽어온 뒤 데이터프레임 형식으로 변환\n",
    "tennis_data = pd.read_csv('playtennis.csv')"
   ]
  },
  {
   "cell_type": "code",
   "execution_count": 4,
   "id": "f2b6d43f-f528-4d59-9540-bbe1d7cf0f60",
   "metadata": {},
   "outputs": [
    {
     "name": "stderr",
     "output_type": "stream",
     "text": [
      "C:\\Users\\User\\AppData\\Local\\Temp\\ipykernel_4008\\2422675233.py:3: FutureWarning: Downcasting behavior in `replace` is deprecated and will be removed in a future version. To retain the old behavior, explicitly call `result.infer_objects(copy=False)`. To opt-in to the future behavior, set `pd.set_option('future.no_silent_downcasting', True)`\n",
      "  tennis_data.Outlook = tennis_data.Outlook.replace('Rain', 2)\n",
      "C:\\Users\\User\\AppData\\Local\\Temp\\ipykernel_4008\\2422675233.py:9: FutureWarning: Downcasting behavior in `replace` is deprecated and will be removed in a future version. To retain the old behavior, explicitly call `result.infer_objects(copy=False)`. To opt-in to the future behavior, set `pd.set_option('future.no_silent_downcasting', True)`\n",
      "  tennis_data.Temperature = tennis_data.Temperature.replace('Cool', 3)\n",
      "C:\\Users\\User\\AppData\\Local\\Temp\\ipykernel_4008\\2422675233.py:13: FutureWarning: Downcasting behavior in `replace` is deprecated and will be removed in a future version. To retain the old behavior, explicitly call `result.infer_objects(copy=False)`. To opt-in to the future behavior, set `pd.set_option('future.no_silent_downcasting', True)`\n",
      "  tennis_data.Humidity = tennis_data.Humidity.replace('Normal', 2)\n",
      "C:\\Users\\User\\AppData\\Local\\Temp\\ipykernel_4008\\2422675233.py:17: FutureWarning: Downcasting behavior in `replace` is deprecated and will be removed in a future version. To retain the old behavior, explicitly call `result.infer_objects(copy=False)`. To opt-in to the future behavior, set `pd.set_option('future.no_silent_downcasting', True)`\n",
      "  tennis_data.Wind = tennis_data.Wind.replace('Strong', 2)\n",
      "C:\\Users\\User\\AppData\\Local\\Temp\\ipykernel_4008\\2422675233.py:21: FutureWarning: Downcasting behavior in `replace` is deprecated and will be removed in a future version. To retain the old behavior, explicitly call `result.infer_objects(copy=False)`. To opt-in to the future behavior, set `pd.set_option('future.no_silent_downcasting', True)`\n",
      "  tennis_data.PlayTennis = tennis_data.PlayTennis.replace('Yes', 2)\n"
     ]
    },
    {
     "data": {
      "text/html": [
       "<div>\n",
       "<style scoped>\n",
       "    .dataframe tbody tr th:only-of-type {\n",
       "        vertical-align: middle;\n",
       "    }\n",
       "\n",
       "    .dataframe tbody tr th {\n",
       "        vertical-align: top;\n",
       "    }\n",
       "\n",
       "    .dataframe thead th {\n",
       "        text-align: right;\n",
       "    }\n",
       "</style>\n",
       "<table border=\"1\" class=\"dataframe\">\n",
       "  <thead>\n",
       "    <tr style=\"text-align: right;\">\n",
       "      <th></th>\n",
       "      <th>Outlook</th>\n",
       "      <th>Temperature</th>\n",
       "      <th>Humidity</th>\n",
       "      <th>Wind</th>\n",
       "      <th>PlayTennis</th>\n",
       "    </tr>\n",
       "  </thead>\n",
       "  <tbody>\n",
       "    <tr>\n",
       "      <th>0</th>\n",
       "      <td>0</td>\n",
       "      <td>1</td>\n",
       "      <td>1</td>\n",
       "      <td>1</td>\n",
       "      <td>1</td>\n",
       "    </tr>\n",
       "    <tr>\n",
       "      <th>1</th>\n",
       "      <td>0</td>\n",
       "      <td>1</td>\n",
       "      <td>1</td>\n",
       "      <td>2</td>\n",
       "      <td>1</td>\n",
       "    </tr>\n",
       "    <tr>\n",
       "      <th>2</th>\n",
       "      <td>1</td>\n",
       "      <td>1</td>\n",
       "      <td>1</td>\n",
       "      <td>1</td>\n",
       "      <td>2</td>\n",
       "    </tr>\n",
       "    <tr>\n",
       "      <th>3</th>\n",
       "      <td>2</td>\n",
       "      <td>2</td>\n",
       "      <td>1</td>\n",
       "      <td>1</td>\n",
       "      <td>2</td>\n",
       "    </tr>\n",
       "    <tr>\n",
       "      <th>4</th>\n",
       "      <td>2</td>\n",
       "      <td>3</td>\n",
       "      <td>2</td>\n",
       "      <td>1</td>\n",
       "      <td>2</td>\n",
       "    </tr>\n",
       "    <tr>\n",
       "      <th>5</th>\n",
       "      <td>2</td>\n",
       "      <td>3</td>\n",
       "      <td>2</td>\n",
       "      <td>2</td>\n",
       "      <td>1</td>\n",
       "    </tr>\n",
       "    <tr>\n",
       "      <th>6</th>\n",
       "      <td>1</td>\n",
       "      <td>3</td>\n",
       "      <td>2</td>\n",
       "      <td>2</td>\n",
       "      <td>2</td>\n",
       "    </tr>\n",
       "    <tr>\n",
       "      <th>7</th>\n",
       "      <td>0</td>\n",
       "      <td>2</td>\n",
       "      <td>1</td>\n",
       "      <td>1</td>\n",
       "      <td>1</td>\n",
       "    </tr>\n",
       "    <tr>\n",
       "      <th>8</th>\n",
       "      <td>0</td>\n",
       "      <td>3</td>\n",
       "      <td>2</td>\n",
       "      <td>1</td>\n",
       "      <td>2</td>\n",
       "    </tr>\n",
       "    <tr>\n",
       "      <th>9</th>\n",
       "      <td>2</td>\n",
       "      <td>2</td>\n",
       "      <td>2</td>\n",
       "      <td>1</td>\n",
       "      <td>2</td>\n",
       "    </tr>\n",
       "    <tr>\n",
       "      <th>10</th>\n",
       "      <td>0</td>\n",
       "      <td>2</td>\n",
       "      <td>2</td>\n",
       "      <td>2</td>\n",
       "      <td>2</td>\n",
       "    </tr>\n",
       "    <tr>\n",
       "      <th>11</th>\n",
       "      <td>1</td>\n",
       "      <td>2</td>\n",
       "      <td>1</td>\n",
       "      <td>2</td>\n",
       "      <td>2</td>\n",
       "    </tr>\n",
       "    <tr>\n",
       "      <th>12</th>\n",
       "      <td>1</td>\n",
       "      <td>1</td>\n",
       "      <td>2</td>\n",
       "      <td>1</td>\n",
       "      <td>2</td>\n",
       "    </tr>\n",
       "    <tr>\n",
       "      <th>13</th>\n",
       "      <td>2</td>\n",
       "      <td>2</td>\n",
       "      <td>1</td>\n",
       "      <td>2</td>\n",
       "      <td>1</td>\n",
       "    </tr>\n",
       "  </tbody>\n",
       "</table>\n",
       "</div>"
      ],
      "text/plain": [
       "    Outlook  Temperature  Humidity  Wind  PlayTennis\n",
       "0         0            1         1     1           1\n",
       "1         0            1         1     2           1\n",
       "2         1            1         1     1           2\n",
       "3         2            2         1     1           2\n",
       "4         2            3         2     1           2\n",
       "5         2            3         2     2           1\n",
       "6         1            3         2     2           2\n",
       "7         0            2         1     1           1\n",
       "8         0            3         2     1           2\n",
       "9         2            2         2     1           2\n",
       "10        0            2         2     2           2\n",
       "11        1            2         1     2           2\n",
       "12        1            1         2     1           2\n",
       "13        2            2         1     2           1"
      ]
     },
     "execution_count": 4,
     "metadata": {},
     "output_type": "execute_result"
    }
   ],
   "source": [
    "tennis_data.Outlook = tennis_data.Outlook.replace('Sunny', 0)\n",
    "tennis_data.Outlook = tennis_data.Outlook.replace('Overcast', 1)\n",
    "tennis_data.Outlook = tennis_data.Outlook.replace('Rain', 2)\n",
    "\n",
    "\n",
    "\n",
    "tennis_data.Temperature = tennis_data.Temperature.replace('Hot', 1)\n",
    "tennis_data.Temperature = tennis_data.Temperature.replace('Mild', 2)\n",
    "tennis_data.Temperature = tennis_data.Temperature.replace('Cool', 3)\n",
    "\n",
    "\n",
    "tennis_data.Humidity = tennis_data.Humidity.replace('High', 1)\n",
    "tennis_data.Humidity = tennis_data.Humidity.replace('Normal', 2)\n",
    "\n",
    "\n",
    "tennis_data.Wind = tennis_data.Wind.replace('Weak', 1)\n",
    "tennis_data.Wind = tennis_data.Wind.replace('Strong', 2)\n",
    "\n",
    "\n",
    "tennis_data.PlayTennis = tennis_data.PlayTennis.replace('No', 1)\n",
    "tennis_data.PlayTennis = tennis_data.PlayTennis.replace('Yes', 2)\n",
    "tennis_data"
   ]
  },
  {
   "cell_type": "code",
   "execution_count": 5,
   "id": "23140996-f953-42d9-b764-b30c4dba3f6a",
   "metadata": {},
   "outputs": [],
   "source": [
    "#tennis_data의 컬럼 값들을 데이터프레임 형태로 추출하고\n",
    "#추출한 데이터를 np.array 형태로 변환한 뒤 변수 X, y에 저장\n",
    "X = np.array(pd.DataFrame(tennis_data, columns = ['Outlook', 'Temperature', 'Humidity', 'Wind']))\n",
    "y = np.array(pd.DataFrame(tennis_data, columns = ['PlayTennis']))"
   ]
  },
  {
   "cell_type": "code",
   "execution_count": 6,
   "id": "d7bb13b9-668a-4b90-8f66-3b85e6522b09",
   "metadata": {},
   "outputs": [],
   "source": [
    "#X와 y의 데이터를 train과 test로 구분\n",
    "X_train, X_test, y_train, y_test = train_test_split(X, y)"
   ]
  },
  {
   "cell_type": "code",
   "execution_count": 7,
   "id": "3a4617a8-8e2f-4964-9d11-7d3ce01b5db4",
   "metadata": {},
   "outputs": [],
   "source": [
    "#의사결정나무 분류 모듈을 dt_clf에 저장\n",
    "dt_clf = DecisionTreeClassifier()"
   ]
  },
  {
   "cell_type": "code",
   "execution_count": 8,
   "id": "beacf468-a297-466a-896c-7b51f7523c35",
   "metadata": {},
   "outputs": [],
   "source": [
    "#의사결정나무 분류 모듈에 X_train, y_train 입력\n",
    "dt_clf = dt_clf.fit(X_train, y_train)"
   ]
  },
  {
   "cell_type": "code",
   "execution_count": 9,
   "id": "72580e96-34bf-4ac2-8136-b9ed3d7a2282",
   "metadata": {},
   "outputs": [],
   "source": [
    "#X_test에 대한 예측값을 dt_prediction에 저장\n",
    "dt_prediction = dt_clf.predict(X_test)"
   ]
  },
  {
   "cell_type": "code",
   "execution_count": 10,
   "id": "262a9c7b-aa46-4098-9291-cbc13b50c8cf",
   "metadata": {},
   "outputs": [
    {
     "name": "stdout",
     "output_type": "stream",
     "text": [
      "정확도:  0.5\n"
     ]
    }
   ],
   "source": [
    "from sklearn.metrics import accuracy_score\n",
    "\n",
    "#예측값의 정확도를 측정\n",
    "accuracy = accuracy_score(y_test, dt_prediction)\n",
    "print(\"정확도: \", accuracy)"
   ]
  },
  {
   "cell_type": "code",
   "execution_count": 11,
   "id": "0a731eac-410b-4c2f-b658-58b1685e30ef",
   "metadata": {},
   "outputs": [],
   "source": [
    "#tennis.data의 컬럼을 list로 변환\n",
    "feature_names = tennis_data.columns.tolist()\n",
    "\n",
    "#0:4로 슬라이싱하여 Outlook, Temperature, Humidity, Wind 컬럼을 추출\n",
    "feature_names = feature_names[0:4]"
   ]
  },
  {
   "cell_type": "code",
   "execution_count": 12,
   "id": "e1e23595-e15c-4d46-a00d-6bed19d475a5",
   "metadata": {},
   "outputs": [],
   "source": [
    "#트리 표현 함수(tree.export_graphviz())에 입력되는 파라미터 중 하나인\n",
    "#class_names에 값을 입력하기 위해 target class값을 배열형태로 저장\n",
    "target_name = np.array(['Play No', 'Play Yes'])"
   ]
  },
  {
   "cell_type": "code",
   "execution_count": 13,
   "id": "8b6fd741-5d36-49a5-a40a-ebf321eabd85",
   "metadata": {},
   "outputs": [],
   "source": [
    "#export_graphviz(): 의사결정트리를 dot형식으로 내보내는 함수\n",
    "#dt_clf: 의사결정트리 분류기\n",
    "#out_file: 의사결정트리를  파일 또는 문자열로 반환(기본: tree.dot, None일 경우 문자열)\n",
    "#feature_names: 각 feature의 이름(문자열)\n",
    "#class_names: 각 대상 클래스의 이름을 오름차순으로 정렬\n",
    "#filled: True일 경우 분류를 위한 다수 클래스, 다중 출력의 노드 순도를 나타내기 위해 색칠\n",
    "#rounded: True일 경우 둥근 모서리가 있는 노드 상자를 그림\n",
    "#special_characters: True일 경우 특수문자 표시\n",
    "dt_dot_data = tree.export_graphviz(dt_clf, out_file = None,\n",
    "                                   feature_names = feature_names,\n",
    "                                   class_names = target_name,\n",
    "                                   filled = True, rounded = True,\n",
    "                                   special_characters = True)"
   ]
  },
  {
   "cell_type": "code",
   "execution_count": 14,
   "id": "add41496-7384-47a2-9b27-2fd240cc2f03",
   "metadata": {},
   "outputs": [],
   "source": [
    "#dot 데이터로 정의된 그래프를 로드하고 dt_graph에 저장\n",
    "dt_graph = pydotplus.graph_from_dot_data(dt_dot_data)"
   ]
  },
  {
   "cell_type": "code",
   "execution_count": 15,
   "id": "06adc4c3-d792-4132-a8d2-5d636aa2a583",
   "metadata": {},
   "outputs": [
    {
     "data": {
      "image/png": "[encoded data removed]",
      "text/plain": [
       "<IPython.core.display.Image object>"
      ]
     },
     "execution_count": 15,
     "metadata": {},
     "output_type": "execute_result"
    }
   ],
   "source": [
    "#그래프를 png파일로 생성한 뒤 이미지 객체를 통해 그래프로 표현\n",
    "Image(dt_graph.create_png())"
   ]
  },
  {
   "cell_type": "code",
   "execution_count": 21,
   "id": "ea899f82-d7f8-43b8-9886-50305433f0a8",
   "metadata": {},
   "outputs": [
    {
     "name": "stdout",
     "output_type": "stream",
     "text": [
      "예측값= [2]\n"
     ]
    }
   ],
   "source": [
    "#다음 날씨에 테니스를 칠 가능성이 높을지 낮을지 예측 결과 확인하기\n",
    "\n",
    "#Outlook-Sunny, Temperature-Hot, Humidity-High, Wind-Weak\n",
    "arr = np.array([[0, 1, 2, 1]])\n",
    "\n",
    "#의사결정나무에 결과 질의(1: No, 2: Yes)\n",
    "print(\"예측값=\", dt_clf.predict(arr))"
   ]
  },
  {
   "cell_type": "code",
   "execution_count": null,
   "id": "fc74fda5-fd63-464a-950f-6b748e854b2f",
   "metadata": {},
   "outputs": [],
   "source": []
  }
 ],
 "metadata": {
  "kernelspec": {
   "display_name": "Python 3 (ipykernel)",
   "language": "python",
   "name": "python3"
  },
  "language_info": {
   "codemirror_mode": {
    "name": "ipython",
    "version": 3
   },
   "file_extension": ".py",
   "mimetype": "text/x-python",
   "name": "python",
   "nbconvert_exporter": "python",
   "pygments_lexer": "ipython3",
   "version": "3.10.14"
  }
 },
 "nbformat": 4,
 "nbformat_minor": 5
}
